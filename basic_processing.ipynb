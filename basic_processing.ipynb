{
 "cells": [
  {
   "cell_type": "code",
   "execution_count": 62,
   "id": "d9086b0a",
   "metadata": {},
   "outputs": [],
   "source": [
    "import pandas as pd\n",
    "\n",
    "# convert the excel to a CSV because it's easier to look at\n",
    "df_excel = pd.read_excel(\"data/raw_data/LichenMossdata.xlsx\")\n",
    "df_excel.to_csv(\"data/raw_data/lichen_moss_coverage_data.csv\")\n",
    "\n",
    "df_raw = pd.read_csv(\"data/raw_data/lichen_moss_coverage_data.csv\")\n",
    "df_processed = df_raw"
   ]
  },
  {
   "cell_type": "code",
   "execution_count": 63,
   "id": "effc5344",
   "metadata": {},
   "outputs": [],
   "source": [
    "# the \"total coverage\" is the total amount of lichen AND moss covering the\n",
    "# surface of a rock\n",
    "# the \"moss fraction\" is the fraction OF THE TOTAL that is moss.\n",
    "# so it's a percentage of a percentage (we recoreded it that way because\n",
    "# it was methodologically easier)\n",
    "# example: 10% total cover, 40% moss cover\n",
    "# 40% of 10% = 4%\n",
    "# therefore there is 4% moss, and the 6% remaining is lichen\n",
    "# the code below processes our values into simply \"moss coverage\" and\n",
    "# \"lichen coverage\"\n",
    "\n",
    "# the cover values are %, so divide by 100 to get the true value\n",
    "total_cover = df_raw['total_cover'] / 100\n",
    "moss_fraction = df_raw['moss_fraction'] / 100\n",
    "moss_cover = total_cover * moss_fraction\n",
    "lichen_cover = total_cover - moss_cover\n",
    "\n",
    "df_processed['total_cover'] = total_cover\n",
    "df_processed['moss_cover'] = moss_cover\n",
    "df_processed['lichen_cover'] = lichen_cover\n"
   ]
  },
  {
   "cell_type": "code",
   "execution_count": 64,
   "id": "8ed50656",
   "metadata": {},
   "outputs": [],
   "source": [
    "# convert all the \"< 0.5\" (= below detection threshold) values to the middle value\n",
    "# \"< 0.5\" -> \"0.25\"\n",
    "\n",
    "def handle_below_detection(item):\n",
    "    # for any item that starts with \"<\"\n",
    "    if isinstance(item, str) and \"<\" in item:\n",
    "         # take the number part of the string and convert to a float\n",
    "         num = float(item.split(\"<\")[1])\n",
    "         return num / 2\n",
    "    return item\n",
    "\n",
    "# doing this the barbaric way :)\n",
    "df_processed['no2'] = df_raw['no2'].apply(handle_below_detection)\n",
    "df_processed['no3'] = df_raw['no3'].apply(handle_below_detection)\n",
    "df_processed['nh4'] = df_raw['nh4'].apply(handle_below_detection)\n",
    "df_processed['total_nitrogen'] = df_raw['total_nitrogen'].apply(handle_below_detection)\n",
    "df_processed['po4'] = df_raw['po4'].apply(handle_below_detection)    "
   ]
  },
  {
   "cell_type": "code",
   "execution_count": 65,
   "id": "03dab218",
   "metadata": {},
   "outputs": [],
   "source": [
    "# convert \"has lichen type\" columns to bools\n",
    "df_processed['has_crustose'] = df_raw['crustose'].astype(bool)\n",
    "df_processed['has_foliose'] = df_raw['foliose'].astype(bool)\n",
    "df_processed['has_fruticose'] = df_raw['fruticose'].astype(bool)\n",
    "\n",
    "df_processed = df_processed.drop(['crustose', 'foliose', 'fruticose'], axis=1)"
   ]
  },
  {
   "cell_type": "code",
   "execution_count": 66,
   "id": "6086c825",
   "metadata": {},
   "outputs": [
    {
     "data": {
      "text/plain": [
       "0                  G_c,O_c,W_c,Bl_f\n",
       "1                  Bl_f,W_c,G_c,O_c\n",
       "2                           W_c,G_c\n",
       "3                           W_c,O_c\n",
       "4                       G_c,W_c,O_c\n",
       "5                   O_c,W_c,G_c,W_f\n",
       "6              O_c,W_c,G_c,W_f,Bl_f\n",
       "7                  G_c,O_c,W_c,GR_c\n",
       "8                          G_c,W_c \n",
       "9             W_c,W_fr,W_f,G_c,GR_c\n",
       "10                W_fr,G_c,W_c,GR_c\n",
       "11                      W_f,G_c,W_c\n",
       "12       W_c,W_c,W_fr,Bl_f,G_c,GR_c\n",
       "13        W_f,W_c,W_fr,Bl_c,G_c,W_c\n",
       "14                 W_c,G_c,Bl_c,O_c\n",
       "15             W_c,W_c,W_fr,W_f,G_c\n",
       "16            W_fr,W_c,W_f,G_c,GR_c\n",
       "17            W_fr,W_f,W_c,GR_c,G_c\n",
       "18                W_fr,W_c,G_c,GR_c\n",
       "19                W_fr,W_c,G_c,Bl_f\n",
       "20                  Y_f,G_c,W_c,W_f\n",
       "21            G_c,W_fr,W_c,W_f,GR_c\n",
       "22                  G_c,R_c,W_c,O_c\n",
       "23                      G_c,W_c,O_c\n",
       "24                          W_c,G_c\n",
       "25             G_c,W_c,O_c,Bl_c,W_f\n",
       "26                     G_c,W_c,Bl_c\n",
       "27                      G_c,W_c,O_c\n",
       "28    G_c,W_c,R_c,O_c,Bl_c,W_f,Bl_f\n",
       "29         G_c,W_c,W_c,Bl_c,O_c,W_f\n",
       "30         G_c,W_c,Bl_c,W_f,W_f,O_c\n",
       "31                              W_c\n",
       "32                 W_c,G_c,W_f,Bl_c\n",
       "33                 W_c,G_c,W_f,Bl_c\n",
       "34                      G_c,W_c,O_c\n",
       "35                      G_c,W_c,O_c\n",
       "36        G_c,W_c,O_c,W_f,Bl_f,Bl_c\n",
       "37             G_c,W_c,W_f,O_c,Bl_c\n",
       "38                              W_c\n",
       "39                  G_c,W_f,W_c,O_c\n",
       "40                      G_c,W_c,O_c\n",
       "41                  W_c,G_c,O_c,W_f\n",
       "42                      O_c,W_c,G_c\n",
       "Name: species, dtype: object"
      ]
     },
     "execution_count": 66,
     "metadata": {},
     "output_type": "execute_result"
    }
   ],
   "source": [
    "df_raw['species']"
   ]
  },
  {
   "cell_type": "code",
   "execution_count": 67,
   "id": "c5cc6fb0",
   "metadata": {},
   "outputs": [],
   "source": [
    "# convert the strings in \"species\" to lists of strings\n",
    "species = pd.Series([species.strip().split(',') for species in df_raw['species']])\n",
    "df_processed['species'] = species\n"
   ]
  },
  {
   "cell_type": "code",
   "execution_count": 68,
   "id": "040a9ff3",
   "metadata": {},
   "outputs": [
    {
     "name": "stdout",
     "output_type": "stream",
     "text": [
      "all species: {'W_c', 'W_f', 'R_c', 'W_fr', 'Bl_c', 'Y_f', 'Bl_f', 'G_c', 'GR_c', 'O_c'}\n"
     ]
    }
   ],
   "source": [
    "# get a set with all the unique species we have observed\n",
    "all_species = set()\n",
    "for species_list in df_processed['species']:\n",
    "    for unique_species in species_list:\n",
    "        all_species.add(unique_species)\n",
    "print(f'all species: {all_species}')\n",
    "\n",
    "# use the set to make new columns for each observed species, \"has_{species}\"\n",
    "for species in all_species:\n",
    "    df_processed[f'has_{species}'] = False\n",
    "\n",
    "# on each column determine if a unique species is present or not\n",
    "for index, row in df_processed.iterrows():\n",
    "    for unique_species in row['species']:\n",
    "        df_processed.loc[index, f'has_{unique_species}'] = True"
   ]
  },
  {
   "cell_type": "code",
   "execution_count": 69,
   "id": "50a08937",
   "metadata": {},
   "outputs": [],
   "source": [
    "df_processed['has_foliose_or_fruticose'] = False\n",
    "for index, row in df_processed.iterrows():\n",
    "    if row['has_foliose'] == True or row['has_fruticose'] == True:\n",
    "        df_processed.loc[index, 'has_foliose_or_fruticose'] = True"
   ]
  },
  {
   "cell_type": "code",
   "execution_count": 70,
   "id": "46ca152c",
   "metadata": {},
   "outputs": [],
   "source": [
    "# drop redundant columns\n",
    "df_processed = df_processed.drop(columns=['moss_fraction'])\n",
    "# drop nan values\n",
    "df_processed = df_processed.dropna()"
   ]
  },
  {
   "cell_type": "code",
   "execution_count": 71,
   "id": "ab4f1e79",
   "metadata": {},
   "outputs": [],
   "source": [
    "df_processed.to_csv('data/processed_data/coverage_data_processed.csv')"
   ]
  }
 ],
 "metadata": {
  "kernelspec": {
   "display_name": "venv",
   "language": "python",
   "name": "python3"
  },
  "language_info": {
   "codemirror_mode": {
    "name": "ipython",
    "version": 3
   },
   "file_extension": ".py",
   "mimetype": "text/x-python",
   "name": "python",
   "nbconvert_exporter": "python",
   "pygments_lexer": "ipython3",
   "version": "3.12.2"
  }
 },
 "nbformat": 4,
 "nbformat_minor": 5
}
