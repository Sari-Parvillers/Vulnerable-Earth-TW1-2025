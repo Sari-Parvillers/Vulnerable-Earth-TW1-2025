{
 "cells": [
  {
   "cell_type": "code",
   "execution_count": 159,
   "id": "d9086b0a",
   "metadata": {},
   "outputs": [],
   "source": [
    "import pandas as pd\n",
    "\n",
    "df_raw = pd.read_csv(\"data/raw_data/lichen_moss_coverage_data.csv\")\n",
    "df_processed = df_raw"
   ]
  },
  {
   "cell_type": "code",
   "execution_count": 160,
   "id": "effc5344",
   "metadata": {},
   "outputs": [],
   "source": [
    "# the \"total coverage\" is the total amount of lichen AND moss covering the\n",
    "# surface of a rock\n",
    "# the \"moss fraction\" is the fraction OF THE TOTAL that is moss.\n",
    "# so it's a percentage of a percentage (we recoreded it that way because\n",
    "# it was methodologically easier)\n",
    "# example: 10% total cover, 40% moss cover\n",
    "# 40% of 10% = 4%\n",
    "# therefore there is 4% moss, and the 6% remaining is lichen\n",
    "# the code below processes our values into simply \"moss coverage\" and\n",
    "# \"lichen coverage\"\n",
    "\n",
    "# the cover values are %, so divide by 100 to get the true value\n",
    "total_cover = df_raw['total_cover'] / 100\n",
    "moss_fraction = df_raw['moss_fraction'] / 100\n",
    "moss_cover = total_cover * moss_fraction\n",
    "lichen_cover = total_cover - moss_cover\n",
    "\n",
    "df_processed['total_cover'] = total_cover\n",
    "df_processed['moss_cover'] = moss_cover\n",
    "df_processed['lichen_cover'] = lichen_cover\n"
   ]
  },
  {
   "cell_type": "code",
   "execution_count": 161,
   "id": "03dab218",
   "metadata": {},
   "outputs": [],
   "source": [
    "# convert \"has lichen type\" columns to bools\n",
    "df_processed['has_crustose'] = df_raw['crustose'].astype(bool)\n",
    "df_processed['has_foliose'] = df_raw['foliose'].astype(bool)\n",
    "df_processed['has_fruticose'] = df_raw['fruticose'].astype(bool)\n",
    "\n",
    "df_processed = df_processed.drop(['crustose', 'foliose', 'fruticose'], axis=1)"
   ]
  },
  {
   "cell_type": "code",
   "execution_count": 162,
   "id": "c5cc6fb0",
   "metadata": {},
   "outputs": [],
   "source": [
    "# convert the strings in \"species\" to lists of strings\n",
    "species = pd.Series([species.strip().split(',') for species in df_raw['species']])\n",
    "df_processed['species'] = species\n"
   ]
  },
  {
   "cell_type": "code",
   "execution_count": 163,
   "id": "040a9ff3",
   "metadata": {},
   "outputs": [
    {
     "name": "stdout",
     "output_type": "stream",
     "text": [
      "all species: {'W_f', 'GR_c', 'Bl_f', 'R_c', 'Bl_c', 'W_fr', 'O_c', 'W_c', 'Y_f', 'G_c'}\n"
     ]
    }
   ],
   "source": [
    "# get a set with all the unique species we have observed\n",
    "all_species = set()\n",
    "for species_list in df_processed['species']:\n",
    "    for unique_species in species_list:\n",
    "        all_species.add(unique_species)\n",
    "print(f'all species: {all_species}')\n",
    "\n",
    "# use the set to make new columns for each observed species, \"has_{species}\"\n",
    "for species in all_species:\n",
    "    df_processed[f'has_{species}'] = False\n",
    "\n",
    "# on each column determine if a unique species is present or not\n",
    "for index, row in df_processed.iterrows():\n",
    "    for unique_species in row['species']:\n",
    "        df_processed.loc[index, f'has_{unique_species}'] = True"
   ]
  },
  {
   "cell_type": "code",
   "execution_count": 164,
   "id": "46ca152c",
   "metadata": {},
   "outputs": [],
   "source": [
    "# drop redundant columns\n",
    "df_processed = df_processed.drop(columns=['moss_fraction'])"
   ]
  },
  {
   "cell_type": "code",
   "execution_count": 166,
   "id": "ab4f1e79",
   "metadata": {},
   "outputs": [],
   "source": [
    "df_processed.to_csv('data/processed_data/coverage_data_processed.csv')"
   ]
  }
 ],
 "metadata": {
  "kernelspec": {
   "display_name": "venv",
   "language": "python",
   "name": "python3"
  },
  "language_info": {
   "codemirror_mode": {
    "name": "ipython",
    "version": 3
   },
   "file_extension": ".py",
   "mimetype": "text/x-python",
   "name": "python",
   "nbconvert_exporter": "python",
   "pygments_lexer": "ipython3",
   "version": "3.12.0"
  }
 },
 "nbformat": 4,
 "nbformat_minor": 5
}
