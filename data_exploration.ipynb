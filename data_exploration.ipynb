{
 "cells": [
  {
   "cell_type": "code",
   "execution_count": null,
   "id": "f6881d44",
   "metadata": {},
   "outputs": [
    {
     "ename": "",
     "evalue": "",
     "output_type": "error",
     "traceback": [
      "\u001b[1;31mRunning cells with 'venv (Python 3.12.2)' requires the ipykernel package.\n",
      "\u001b[1;31mRun the following command to install 'ipykernel' into the Python environment. \n",
      "\u001b[1;31mCommand: '/Users/Sari/Documents/Code/Vulnerable-Earth-TW1-2025/venv/bin/python -m pip install ipykernel -U --force-reinstall'"
     ]
    }
   ],
   "source": [
    "import pandas as pd\n",
    "import matplotlib.pyplot as plt\n",
    "import seaborn as sns\n",
    "from scipy.stats import spearmanr\n",
    "import numpy as np"
   ]
  },
  {
   "cell_type": "code",
   "execution_count": null,
   "id": "4b510c51",
   "metadata": {},
   "outputs": [],
   "source": [
    "df_coverage_data = pd.read_csv('data/processed_data/coverage_data_processed.csv')"
   ]
  },
  {
   "cell_type": "code",
   "execution_count": null,
   "id": "4f58cac5",
   "metadata": {},
   "outputs": [],
   "source": [
    "# get the log for later - to see if we can adjust for heteroscedasticity\n",
    "df_coverage_data['log_total_cover'] = np.log(df_coverage_data['total_cover'])"
   ]
  },
  {
   "cell_type": "code",
   "execution_count": null,
   "id": "3c709329",
   "metadata": {},
   "outputs": [],
   "source": [
    "print(f\"total cover mean: {df_coverage_data['total_cover'].mean()}\")\n",
    "print(f\"total cover median: {df_coverage_data['total_cover'].median()}\")\n",
    "print(f\"moss cover mean: {df_coverage_data['moss_cover'].mean()}\")\n",
    "print(f\"moss cover median: {df_coverage_data['moss_cover'].median()}\")\n",
    "print(f\"lichen cover mean: {df_coverage_data['lichen_cover'].mean()}\")\n",
    "print(f\"lichen cover median: {df_coverage_data['lichen_cover'].median()}\")\n",
    "\n"
   ]
  },
  {
   "cell_type": "code",
   "execution_count": null,
   "id": "a8afc44e",
   "metadata": {},
   "outputs": [],
   "source": [
    "sns.histplot(df_coverage_data['total_cover'])"
   ]
  },
  {
   "cell_type": "code",
   "execution_count": null,
   "id": "d8041530",
   "metadata": {},
   "outputs": [],
   "source": [
    "sns.histplot(df_coverage_data['moss_cover'])"
   ]
  },
  {
   "cell_type": "code",
   "execution_count": null,
   "id": "f88fc46d",
   "metadata": {},
   "outputs": [],
   "source": [
    "sns.histplot(df_coverage_data['deviation_north'])"
   ]
  },
  {
   "cell_type": "code",
   "execution_count": null,
   "id": "74170bd8",
   "metadata": {},
   "outputs": [],
   "source": [
    "sns.scatterplot(df_coverage_data, x='deviation_north', y='total_cover', style='has_foliose_or_fruticose', hue='elevation')\n"
   ]
  },
  {
   "cell_type": "code",
   "execution_count": null,
   "id": "63b1fb36",
   "metadata": {},
   "outputs": [],
   "source": [
    "sns.scatterplot(x=df_coverage_data['deviation_north'], y=df_coverage_data['moss_cover'])\n"
   ]
  },
  {
   "cell_type": "code",
   "execution_count": null,
   "id": "448a88a8",
   "metadata": {},
   "outputs": [],
   "source": [
    "sns.scatterplot(df_coverage_data, x='deviation_north', y='lichen_cover', style='has_foliose_or_fruticose')\n"
   ]
  },
  {
   "cell_type": "code",
   "execution_count": null,
   "id": "b94642cd",
   "metadata": {},
   "outputs": [],
   "source": [
    "sns.scatterplot(df_coverage_data, x='solar_radiation', y='total_cover', style='has_foliose_or_fruticose')"
   ]
  },
  {
   "cell_type": "code",
   "execution_count": null,
   "id": "dac9bc9f",
   "metadata": {},
   "outputs": [],
   "source": [
    "sns.scatterplot(df_coverage_data, x='elevation', y='total_cover', style='has_foliose_or_fruticose')"
   ]
  },
  {
   "cell_type": "code",
   "execution_count": null,
   "id": "eedc4433",
   "metadata": {},
   "outputs": [],
   "source": [
    "# I wanna look at data from each lichen species\n",
    "# get all the columns that have species in them\n",
    "\n",
    "has_species_columns = ['has_W_f', 'has_GR_c', 'has_Bl_f', 'has_R_c', 'has_Bl_c', 'has_W_fr',\n",
    "    'has_O_c', 'has_W_c', 'has_Y_f', 'has_G_c']\n"
   ]
  },
  {
   "cell_type": "code",
   "execution_count": null,
   "id": "e46f2669",
   "metadata": {},
   "outputs": [],
   "source": [
    "# get data about the counts of all the species\n",
    "species_counts = {\n",
    "        column: df_coverage_data[column].sum() for column in has_species_columns\n",
    "    }\n",
    "print(species_counts)\n"
   ]
  },
  {
   "cell_type": "code",
   "execution_count": null,
   "id": "2beda5f3",
   "metadata": {},
   "outputs": [],
   "source": [
    "plt.figure(figsize=(10, 5)) \n",
    "plt.xticks(rotation=45)\n",
    "sns.barplot(species_counts)"
   ]
  },
  {
   "cell_type": "code",
   "execution_count": null,
   "id": "a8455112",
   "metadata": {},
   "outputs": [],
   "source": [
    "# variables that I want to run statistical analysis on\n",
    "vars_of_interest = ['deviation_north', 'solar_radiation']"
   ]
  },
  {
   "cell_type": "code",
   "execution_count": null,
   "id": "109e5b4f",
   "metadata": {},
   "outputs": [],
   "source": [
    "# run spearman's rank on the variables of interest, x = variable, y = total cover\n",
    "for variable in vars_of_interest:\n",
    "    corr, pval = spearmanr(df_coverage_data[variable], df_coverage_data['total_cover'])\n",
    "    print(f'{variable} and total cover spearmanr values')\n",
    "    print(f'correlation: {corr}')\n",
    "    print(f'p value: {pval}')"
   ]
  },
  {
   "cell_type": "code",
   "execution_count": null,
   "id": "a52f9969",
   "metadata": {},
   "outputs": [],
   "source": [
    "# plotting the variance across aspect deviation from north and total coverage\n",
    "# get a df where all values for similar deviation_north are near each other\n",
    "df_by_deviation_north = df_coverage_data.sort_values('deviation_north')\n",
    "# check how much variance there is for total cover around each\n",
    "# value of deviation north to see how much the variance itself varies across\n",
    "# the dataset (= how heteroscedastic the data is)\n",
    "variance_windows = [5, 10, 15, 20]\n",
    "# basically: at each \"deviation north\" value, this checks for the\n",
    "# 5, 10, 15, or 20 nearest values of corresponding \"total cover\",\n",
    "# calculating the variance of these n nearest values. So the graph\n",
    "# represents various ways to show how much the variance changes across\n",
    "# the relationship between total cover and aspect deviation from north\n",
    "for variance_window in variance_windows:\n",
    "    rol_var = df_by_deviation_north['total_cover'].rolling(\n",
    "        window=variance_window, center=True\n",
    "    ).var()\n",
    "    sns.lineplot(\n",
    "        df_by_deviation_north, x='deviation_north', y=rol_var,\n",
    "        label=f'window = {variance_window}'\n",
    "    )\n",
    "\n",
    "\n"
   ]
  },
  {
   "cell_type": "code",
   "execution_count": null,
   "id": "8c44e246",
   "metadata": {},
   "outputs": [],
   "source": [
    "# let's do the same with solar radiation\n",
    "df_by_solar_radiation = df_coverage_data.sort_values('solar_radiation')\n",
    "\n",
    "for variance_window in variance_windows:\n",
    "    rol_var = df_by_solar_radiation['total_cover'].rolling(\n",
    "        window=variance_window, center=True\n",
    "    ).var()\n",
    "    sns.lineplot(\n",
    "        df_by_solar_radiation, x='deviation_north', y=rol_var,\n",
    "        label=f'window = {variance_window}'\n",
    "    )\n"
   ]
  },
  {
   "cell_type": "code",
   "execution_count": null,
   "id": "8c13512b",
   "metadata": {},
   "outputs": [],
   "source": [
    "sns.scatterplot(df_coverage_data, x='deviation_north', y='log_total_cover')"
   ]
  },
  {
   "cell_type": "code",
   "execution_count": null,
   "id": "37b48497",
   "metadata": {},
   "outputs": [],
   "source": [
    "for variance_window in variance_windows:\n",
    "    rol_var = df_by_deviation_north['log_total_cover'].rolling(\n",
    "        window=variance_window, center=True\n",
    "    ).var()\n",
    "    sns.lineplot(\n",
    "        df_by_deviation_north, x='deviation_north', y=rol_var,\n",
    "        label=f'window = {variance_window}'\n",
    "    )"
   ]
  },
  {
   "cell_type": "code",
   "execution_count": null,
   "id": "34018863",
   "metadata": {},
   "outputs": [],
   "source": [
    "# numerically check the difference in variance at certain thresholds\n",
    "from scipy.stats import levene\n",
    "\n",
    "levene_thresholds = [15, 30, 45, 60]\n",
    "for threshold in levene_thresholds:\n",
    "    group1 = df_coverage_data[df_coverage_data['deviation_north'] < threshold]['total_cover']\n",
    "    group2 = df_coverage_data[df_coverage_data['deviation_north'] >= threshold]['total_cover']\n",
    "    stat, pval = levene(group1, group2)\n",
    "    print(f'''how significant is the difference in variance below and above {threshold}\n",
    "          degrees away from north for total coverage''')\n",
    "    print(f'f statistic : {stat}')\n",
    "    print(f'p value: {pval}')"
   ]
  },
  {
   "cell_type": "code",
   "execution_count": null,
   "id": "47673391",
   "metadata": {},
   "outputs": [],
   "source": [
    "# let's run a levene test at each \"deviation north\" value to see how much\n",
    "# the variance significantly differs at each point\n",
    "\n",
    "for index, row in df_by_deviation_north.iterrows():\n",
    "    threshold = row['deviation_north']\n",
    "    group1 = df_coverage_data[df_coverage_data['deviation_north'] < threshold]['total_cover']\n",
    "    group2 = df_coverage_data[df_coverage_data['deviation_north'] >= threshold]['total_cover']\n",
    "    stat, pval = levene(group1, group2)\n",
    "    df_by_deviation_north.loc[index, 'aspect_levene_pval'] = pval\n",
    "    df_by_deviation_north.loc[index, 'aspect_levene_fstat'] = stat\n",
    "\n",
    "\n"
   ]
  },
  {
   "cell_type": "code",
   "execution_count": null,
   "id": "7f377e0a",
   "metadata": {},
   "outputs": [],
   "source": [
    "sns.lineplot(\n",
    "    df_by_deviation_north, x='deviation_north', \n",
    "    y='aspect_levene_fstat',\n",
    "    label=f'levene test F statistic value'\n",
    ")\n",
    "sig = df_by_deviation_north['aspect_levene_pval'] < 0.05\n",
    "sns.scatterplot(\n",
    "    df_by_deviation_north[sig],\n",
    "    x='deviation_north', y='aspect_levene_fstat',\n",
    "    color='red', s=20,\n",
    "    label='levene test p value, only when p < 0.05'\n",
    ")"
   ]
  }
 ],
 "metadata": {
  "kernelspec": {
   "display_name": "venv",
   "language": "python",
   "name": "python3"
  },
  "language_info": {
   "codemirror_mode": {
    "name": "ipython",
    "version": 3
   },
   "file_extension": ".py",
   "mimetype": "text/x-python",
   "name": "python",
   "nbconvert_exporter": "python",
   "pygments_lexer": "ipython3",
   "version": "3.12.2"
  }
 },
 "nbformat": 4,
 "nbformat_minor": 5
}
